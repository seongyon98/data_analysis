{
 "cells": [
  {
   "cell_type": "markdown",
   "metadata": {},
   "source": [
    "- 병합된 데이터셋을 활용하여 스포츠 카테고리 용품만 추출. 시각화에 활용할 최종 데이터셋 구축"
   ]
  },
  {
   "cell_type": "code",
   "execution_count": null,
   "metadata": {},
   "outputs": [],
   "source": [
    "import pandas as pd\n",
    "\n",
    "file_path = \"./custom_data/merge/order_customer_merged.csv\"\n",
    "\n",
    "order_df = pd.read_csv(file_path)"
   ]
  },
  {
   "cell_type": "code",
   "execution_count": null,
   "metadata": {},
   "outputs": [],
   "source": [
    "# Filter the necessary columns\n",
    "filtered_data = order_df[\n",
    "    [\n",
    "        \"customer_city\",\n",
    "        \"customer_state\",\n",
    "        \"region\",\n",
    "        \"product_category_name\",\n",
    "        \"customer_id\",\n",
    "    ]\n",
    "]\n",
    "\n",
    "# Filter for specific product categories\n",
    "esporte_lazer_data = filtered_data[\n",
    "    filtered_data[\"product_category_name\"] == \"esporte_lazer\"\n",
    "]\n",
    "fashion_esporte_data = filtered_data[\n",
    "    filtered_data[\"product_category_name\"] == \"fashion_esporte\"\n",
    "]"
   ]
  },
  {
   "cell_type": "code",
   "execution_count": null,
   "metadata": {},
   "outputs": [],
   "source": [
    "# 각 도시별 카테고리별 구매 고객 수\n",
    "esporte_lazer_counts_city = (\n",
    "    esporte_lazer_data.groupby([\"customer_city\"])[\"customer_id\"]\n",
    "    .count()\n",
    "    .reset_index(name=\"esporte_lazer_customers_city\")\n",
    ")\n",
    "fashion_esporte_counts_city = (\n",
    "    fashion_esporte_data.groupby([\"customer_city\"])[\"customer_id\"]\n",
    "    .count()\n",
    "    .reset_index(name=\"fashion_esporte_customers_city\")\n",
    ")"
   ]
  },
  {
   "cell_type": "code",
   "execution_count": null,
   "metadata": {},
   "outputs": [],
   "source": [
    "# 병합\n",
    "merged_df_city = pd.merge(\n",
    "    esporte_lazer_counts_city,\n",
    "    fashion_esporte_counts_city,\n",
    "    on=\"customer_city\",\n",
    "    how=\"left\",\n",
    ")"
   ]
  },
  {
   "cell_type": "code",
   "execution_count": null,
   "metadata": {},
   "outputs": [],
   "source": [
    "# 결측치 0으로 대체\n",
    "merged_df_city.fillna(0, inplace=True)"
   ]
  },
  {
   "cell_type": "code",
   "execution_count": null,
   "metadata": {},
   "outputs": [],
   "source": [
    "# 두 카테고리 합\n",
    "merged_df_city[\"total\"] = (\n",
    "    merged_df_city[\"esporte_lazer_customers_city\"]\n",
    "    + merged_df_city[\"fashion_esporte_customers_city\"]\n",
    ")"
   ]
  },
  {
   "cell_type": "code",
   "execution_count": null,
   "metadata": {},
   "outputs": [],
   "source": [
    "# 각 주별 카테고리별 구매 고객 수\n",
    "esporte_lazer_counts_state = (\n",
    "    esporte_lazer_data.groupby([\"customer_state\"])[\"customer_id\"]\n",
    "    .count()\n",
    "    .reset_index(name=\"esporte_lazer_customers_state\")\n",
    ")\n",
    "fashion_esporte_counts_state = (\n",
    "    fashion_esporte_data.groupby([\"customer_state\"])[\"customer_id\"]\n",
    "    .count()\n",
    "    .reset_index(name=\"fashion_esporte_customers_state\")\n",
    ")"
   ]
  },
  {
   "cell_type": "code",
   "execution_count": null,
   "metadata": {},
   "outputs": [],
   "source": [
    "# 병합\n",
    "merged_df_state = pd.merge(\n",
    "    esporte_lazer_counts_state,\n",
    "    fashion_esporte_counts_state,\n",
    "    on=\"customer_state\",\n",
    "    how=\"left\",\n",
    ")"
   ]
  },
  {
   "cell_type": "code",
   "execution_count": null,
   "metadata": {},
   "outputs": [],
   "source": [
    "# 결측치 0으로 대체\n",
    "merged_df_state.fillna(0, inplace=True)"
   ]
  },
  {
   "cell_type": "code",
   "execution_count": null,
   "metadata": {},
   "outputs": [],
   "source": [
    "# 두 카테고리의 합\n",
    "merged_df_state[\"total\"] = (\n",
    "    merged_df_state[\"esporte_lazer_customers_state\"]\n",
    "    + merged_df_state[\"fashion_esporte_customers_state\"]\n",
    ")"
   ]
  },
  {
   "cell_type": "code",
   "execution_count": null,
   "metadata": {},
   "outputs": [],
   "source": [
    "# 해안/내륙 컬럼 추가를 위한 리스트 생성\n",
    "coastal_s = [\n",
    "    \"AP\",\n",
    "    \"PA\",\n",
    "    \"MA\",\n",
    "    \"PI\",\n",
    "    \"CE\",\n",
    "    \"RN\",\n",
    "    \"PB\",\n",
    "    \"PE\",\n",
    "    \"AL\",\n",
    "    \"SE\",\n",
    "    \"BA\",\n",
    "    \"ES\",\n",
    "    \"RJ\",\n",
    "    \"SP\",\n",
    "    \"PR\",\n",
    "    \"SC\",\n",
    "    \"RS\",\n",
    "]\n",
    "inland_s = [\"AM\", \"RR\", \"AC\", \"RO\", \"MT\", \"GO\", \"MG\", \"MS\", \"TO\", \"DF\"]\n",
    "\n",
    "# 주 코드에 해당하는 주 명칭 딕셔너리\n",
    "state_mapping = {\n",
    "    \"AC\": \"Acre\",\n",
    "    \"AL\": \"Alagoas\",\n",
    "    \"AP\": \"Amapá\",\n",
    "    \"AM\": \"Amazonas\",\n",
    "    \"BA\": \"Bahia\",\n",
    "    \"CE\": \"Ceará\",\n",
    "    \"DF\": \"Distrito Federal\",\n",
    "    \"ES\": \"Espírito Santo\",\n",
    "    \"GO\": \"Goiás\",\n",
    "    \"MA\": \"Maranhão\",\n",
    "    \"MT\": \"Mato Grosso\",\n",
    "    \"MS\": \"Mato Grosso do Sul\",\n",
    "    \"MG\": \"Minas Gerais\",\n",
    "    \"PA\": \"Pará\",\n",
    "    \"PB\": \"Paraíba\",\n",
    "    \"PR\": \"Paraná\",\n",
    "    \"PE\": \"Pernambuco\",\n",
    "    \"PI\": \"Piauí\",\n",
    "    \"RN\": \"Rio Grande do Norte\",\n",
    "    \"RJ\": \"Rio de Janeiro\",\n",
    "    \"RS\": \"Rio Grande do Sul\",\n",
    "    \"RO\": \"Rondônia\",\n",
    "    \"RR\": \"Roraima\",\n",
    "    \"SC\": \"Santa Catarina\",\n",
    "    \"SP\": \"São Paulo\",\n",
    "    \"SE\": \"Sergipe\",\n",
    "    \"TO\": \"Tocantins\",\n",
    "}\n",
    "\n",
    "# 각 주 코드에 해당하는 주 명칭 저장\n",
    "coastal = [state_mapping[code] for code in coastal_s]\n",
    "inland = [state_mapping[code] for code in inland_s]"
   ]
  },
  {
   "cell_type": "code",
   "execution_count": null,
   "metadata": {},
   "outputs": [],
   "source": [
    "# 해안/내륙 컬럼에 데이터 추가\n",
    "merged_df_state[\"region\"] = merged_df_state[\"customer_state\"].apply(\n",
    "    lambda x: \"coastal\" if x in coastal else \"inland\"\n",
    ")"
   ]
  },
  {
   "cell_type": "code",
   "execution_count": null,
   "metadata": {},
   "outputs": [],
   "source": [
    "# csv 파일로 저장\n",
    "merged_df_state.to_csv(\"state_sports_df.csv\", index=False)"
   ]
  },
  {
   "cell_type": "code",
   "execution_count": null,
   "metadata": {},
   "outputs": [],
   "source": [
    "# 해안/내륙 카테고리별 구매 고객 수\n",
    "esporte_lazer_counts_region = (\n",
    "    esporte_lazer_data.groupby([\"region\"])[\"customer_id\"]\n",
    "    .count()\n",
    "    .reset_index(name=\"esporte_lazer_customers_region\")\n",
    ")\n",
    "fashion_esporte_counts_region = (\n",
    "    fashion_esporte_data.groupby([\"region\"])[\"customer_id\"]\n",
    "    .count()\n",
    "    .reset_index(name=\"fashion_esporte_customers_region\")\n",
    ")"
   ]
  },
  {
   "cell_type": "code",
   "execution_count": null,
   "metadata": {},
   "outputs": [],
   "source": [
    "# 병합\n",
    "merged_df_region = pd.merge(\n",
    "    esporte_lazer_counts_region, fashion_esporte_counts_region, on=\"region\"\n",
    ")"
   ]
  },
  {
   "cell_type": "code",
   "execution_count": null,
   "metadata": {},
   "outputs": [],
   "source": [
    "# 두 카테고리의 합\n",
    "merged_df_region[\"total\"] = (\n",
    "    merged_df_region[\"esporte_lazer_customers_region\"]\n",
    "    + merged_df_region[\"fashion_esporte_customers_region\"]\n",
    ")"
   ]
  },
  {
   "cell_type": "code",
   "execution_count": null,
   "metadata": {},
   "outputs": [],
   "source": [
    "# csv 파일로 저장\n",
    "merged_df_region.to_csv(\"region_sports_df.csv\", index=False)"
   ]
  }
 ],
 "metadata": {
  "kernelspec": {
   "display_name": "base",
   "language": "python",
   "name": "python3"
  },
  "language_info": {
   "codemirror_mode": {
    "name": "ipython",
    "version": 3
   },
   "file_extension": ".py",
   "mimetype": "text/x-python",
   "name": "python",
   "nbconvert_exporter": "python",
   "pygments_lexer": "ipython3",
   "version": "3.12.4"
  }
 },
 "nbformat": 4,
 "nbformat_minor": 2
}

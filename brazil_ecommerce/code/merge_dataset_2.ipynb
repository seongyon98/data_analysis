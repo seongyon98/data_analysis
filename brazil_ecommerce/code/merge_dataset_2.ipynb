{
 "cells": [
  {
   "cell_type": "markdown",
   "metadata": {},
   "source": [
    "- 스포츠 관련 카테고리 용품만 추출하기 위해 고객 데이터셋과 주문-물품 데이터셋 병합"
   ]
  },
  {
   "cell_type": "code",
   "execution_count": null,
   "metadata": {},
   "outputs": [],
   "source": [
    "import pandas as pd\n",
    "\n",
    "file_path = \"./custom_data/cleaned/modified_customers_dataset.csv\"\n",
    "\n",
    "# 고객 정보 데이터\n",
    "cus_df = pd.read_csv(file_path)"
   ]
  },
  {
   "cell_type": "code",
   "execution_count": null,
   "metadata": {},
   "outputs": [],
   "source": [
    "file_path = \"./custom_data/order_items_with_product_category.csv\"\n",
    "\n",
    "# 주문 데이터\n",
    "order_df = pd.read_csv(file_path)"
   ]
  },
  {
   "cell_type": "code",
   "execution_count": null,
   "metadata": {},
   "outputs": [],
   "source": [
    "# 고객 아이디 기준 주문데이터와 고객데이터 왼쪽 조인\n",
    "order_cus_merged_df = pd.merge(order_df, cus_df, on=\"customer_id\", how=\"left\")"
   ]
  },
  {
   "cell_type": "code",
   "execution_count": null,
   "metadata": {},
   "outputs": [],
   "source": [
    "# 병합된 데이터셋 csv 파일로 저장\n",
    "order_cus_merged_df.to_csv(\"order_customer_merged.csv\", index=False)"
   ]
  }
 ],
 "metadata": {
  "kernelspec": {
   "display_name": "base",
   "language": "python",
   "name": "python3"
  },
  "language_info": {
   "codemirror_mode": {
    "name": "ipython",
    "version": 3
   },
   "file_extension": ".py",
   "mimetype": "text/x-python",
   "name": "python",
   "nbconvert_exporter": "python",
   "pygments_lexer": "ipython3",
   "version": "3.12.4"
  }
 },
 "nbformat": 4,
 "nbformat_minor": 2
}

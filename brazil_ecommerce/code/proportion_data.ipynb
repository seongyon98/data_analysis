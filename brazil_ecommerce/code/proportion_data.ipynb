{
 "cells": [
  {
   "cell_type": "markdown",
   "metadata": {},
   "source": [
    "- 최종 데이터셋을 활용한 비율 계산 및 시각화"
   ]
  },
  {
   "cell_type": "code",
   "execution_count": null,
   "metadata": {},
   "outputs": [],
   "source": [
    "import pandas as pd\n",
    "\n",
    "file_path = \"./custom_data/merge/order_customer_merged.csv\"\n",
    "\n",
    "# 병합된 주문 데이터\n",
    "order_df = pd.read_csv(file_path)"
   ]
  },
  {
   "cell_type": "code",
   "execution_count": null,
   "metadata": {},
   "outputs": [],
   "source": [
    "# 각 도시와 주에 있는 고객 수를 집계\n",
    "city_state_counts = (\n",
    "    order_df.groupby([\"customer_state\", \"customer_city\"])\n",
    "    .size()\n",
    "    .reset_index(name=\"customer_count\")\n",
    ")\n",
    "\n",
    "city_state_counts.sort_values(\"customer_count\", ascending=False)"
   ]
  },
  {
   "cell_type": "code",
   "execution_count": null,
   "metadata": {},
   "outputs": [],
   "source": [
    "# 각 도시별 고객 수를 계산\n",
    "city_counts = (\n",
    "    order_df.groupby([\"customer_state\", \"customer_city\"])\n",
    "    .size()\n",
    "    .reset_index(name=\"customer_count\")\n",
    ")\n",
    "\n",
    "# 각 주별 고객 수를 계산\n",
    "state_counts = (\n",
    "    order_df.groupby(\"customer_state\").size().reset_index(name=\"state_customer_count\")\n",
    ")"
   ]
  },
  {
   "cell_type": "code",
   "execution_count": null,
   "metadata": {},
   "outputs": [],
   "source": [
    "# 정보 병합\n",
    "merged_df = pd.merge(city_counts, state_counts, on=\"customer_state\")\n",
    "\n",
    "# 'state_customer_count' 내림차순, 같은 state 내에서는 'customer_count' 내림차순으로 정렬\n",
    "sorted_merged_df = merged_df.sort_values(\n",
    "    by=[\"state_customer_count\", \"customer_count\"], ascending=[False, False]\n",
    ")"
   ]
  },
  {
   "cell_type": "code",
   "execution_count": null,
   "metadata": {},
   "outputs": [],
   "source": [
    "# 해안, 내륙지역 분류\n",
    "coastal_s = [\n",
    "    \"AP\", \"PA\", \"MA\", \"PI\", \"CE\", \"RN\", \"PB\", \"PE\", \"AL\", \"SE\", \"BA\", \"ES\", \"RJ\", \"SP\", \"PR\", \"SC\", \"RS\"\n",
    "]\n",
    "inland_s = [\n",
    "    \"AM\", \"RR\", \"AC\", \"RO\", \"MT\", \"GO\", \"MG\", \"MS\", \"TO\", \"DF\"\n",
    "]\n",
    "state_mapping = {\n",
    "    \"AC\": \"Acre\", \"AL\": \"Alagoas\", \"AP\": \"Amapá\", \"AM\": \"Amazonas\", \"BA\": \"Bahia\", \n",
    "    \"CE\": \"Ceará\", \"DF\": \"Distrito Federal\", \"ES\": \"Espírito Santo\", \"GO\": \"Goiás\", \n",
    "    \"MA\": \"Maranhão\", \"MT\": \"Mato Grosso\", \"MS\": \"Mato Grosso do Sul\", \"MG\": \"Minas Gerais\", \n",
    "    \"PA\": \"Pará\", \"PB\": \"Paraíba\", \"PR\": \"Paraná\", \"PE\": \"Pernambuco\", \"PI\": \"Piauí\", \n",
    "    \"RN\": \"Rio Grande do Norte\", \"RJ\": \"Rio de Janeiro\", \"RS\": \"Rio Grande do Sul\", \n",
    "    \"RO\": \"Rondônia\", \"RR\": \"Roraima\", \"SC\": \"Santa Catarina\", \"SP\": \"São Paulo\", \n",
    "    \"SE\": \"Sergipe\", \"TO\": \"Tocantins\"\n",
    "}\n",
    "\n",
    "coastal = [state_mapping[code] for code in coastal_s]\n",
    "inland = [state_mapping[code] for code in inland_s]"
   ]
  },
  {
   "cell_type": "code",
   "execution_count": null,
   "metadata": {},
   "outputs": [],
   "source": [
    "# 해안/내륙 컬럼에 데이터 추가\n",
    "sorted_merged_df[\"region\"] = sorted_merged_df[\"customer_state\"].apply(\n",
    "    lambda x: \"coastal\" if x in coastal else \"inland\"\n",
    ")"
   ]
  },
  {
   "cell_type": "code",
   "execution_count": null,
   "metadata": {},
   "outputs": [],
   "source": [
    "file_path = \"./custom_data/final/state_sports_df.csv\"\n",
    "\n",
    "# 스포츠 관련 용품 구매 데이터\n",
    "sports_df = pd.read_csv(file_path)"
   ]
  },
  {
   "cell_type": "code",
   "execution_count": null,
   "metadata": {},
   "outputs": [],
   "source": [
    "# 절대치가 아닌 비율로 계산\n",
    "sports_df[\"purchase_rate\"] = (\n",
    "    sports_df[\"total\"] / sorted_merged_df[\"state_customer_count\"]\n",
    ")"
   ]
  },
  {
   "cell_type": "code",
   "execution_count": null,
   "metadata": {},
   "outputs": [],
   "source": [
    "# 비율로 계산한 데이터셋 새로운 csv 파일로 저장\n",
    "sports_df.to_csv(\"sports_proportion_df.csv\", index=False)"
   ]
  },
  {
   "cell_type": "code",
   "execution_count": null,
   "metadata": {},
   "outputs": [],
   "source": [
    "# 해안/내륙별로 비율 합계\n",
    "proportion_region = (\n",
    "    sports_df.groupby([\"region\"])[\"purchase_rate\"]\n",
    "    .sum()\n",
    "    .reset_index(name=\"proportion_region\")\n",
    ")"
   ]
  },
  {
   "cell_type": "code",
   "execution_count": null,
   "metadata": {},
   "outputs": [],
   "source": [
    "# 비율 시각화\n",
    "import seaborn as sns\n",
    "import matplotlib.pyplot as plt\n",
    "\n",
    "sns.barplot(\n",
    "    proportion_region,\n",
    "    x=\"region\",\n",
    "    y=\"proportion_region\",\n",
    "    hue=\"region\",\n",
    "    legend=False,\n",
    "    palette=\"viridis\",\n",
    ")\n",
    "\n",
    "plt.title(\"purchase rate between coastal and inland\")\n",
    "plt.show()"
   ]
  },
  {
   "cell_type": "code",
   "execution_count": null,
   "metadata": {},
   "outputs": [],
   "source": [
    "# 파이 차트로 비율 시각화\n",
    "plt.figure(figsize=(8, 8))\n",
    "\n",
    "colors = [\"cornflowerblue\", \"yellowgreen\"]\n",
    "\n",
    "explode = (0.1, 0)\n",
    "\n",
    "plt.pie(\n",
    "    proportion_region[\"proportion_region\"],\n",
    "    labels=proportion_region[\"region\"].unique(),\n",
    "    autopct=\"%1.1f%%\",\n",
    "    colors=colors,\n",
    "    explode=explode,\n",
    "    shadow=True,\n",
    ")\n",
    "\n",
    "plt.title(\"purchase rate of sports products between coastal and inland\")\n",
    "plt.show()"
   ]
  }
 ],
 "metadata": {
  "kernelspec": {
   "display_name": "base",
   "language": "python",
   "name": "python3"
  },
  "language_info": {
   "codemirror_mode": {
    "name": "ipython",
    "version": 3
   },
   "file_extension": ".py",
   "mimetype": "text/x-python",
   "name": "python",
   "nbconvert_exporter": "python",
   "pygments_lexer": "ipython3",
   "version": "3.12.4"
  }
 },
 "nbformat": 4,
 "nbformat_minor": 2
}

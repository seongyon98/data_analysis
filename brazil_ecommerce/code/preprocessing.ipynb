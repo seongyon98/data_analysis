{
 "cells": [
  {
   "cell_type": "code",
   "execution_count": 10,
   "metadata": {},
   "outputs": [
    {
     "name": "stdout",
     "output_type": "stream",
     "text": [
      "<class 'pandas.core.frame.DataFrame'>\n",
      "RangeIndex: 112650 entries, 0 to 112649\n",
      "Data columns (total 7 columns):\n",
      " #   Column               Non-Null Count   Dtype  \n",
      "---  ------               --------------   -----  \n",
      " 0   order_id             112650 non-null  object \n",
      " 1   order_item_id        112650 non-null  int64  \n",
      " 2   product_id           112650 non-null  object \n",
      " 3   seller_id            112650 non-null  object \n",
      " 4   shipping_limit_date  112650 non-null  object \n",
      " 5   price                112650 non-null  float64\n",
      " 6   freight_value        112650 non-null  float64\n",
      "dtypes: float64(2), int64(1), object(4)\n",
      "memory usage: 6.0+ MB\n"
     ]
    }
   ],
   "source": [
    "import pandas as pd\n",
    "\n",
    "# order_item 데이터셋 불러오기\n",
    "order_items_df = pd.read_csv(\"data/olist_order_items_dataset.csv\")\n",
    "order_items_df.info()\n",
    "\n",
    "# products 데이터셋\n",
    "products_df = pd.read_csv(\"data/olist_products_dataset.csv\")"
   ]
  },
  {
   "cell_type": "code",
   "execution_count": 11,
   "metadata": {},
   "outputs": [
    {
     "data": {
      "text/html": [
       "<div>\n",
       "<style scoped>\n",
       "    .dataframe tbody tr th:only-of-type {\n",
       "        vertical-align: middle;\n",
       "    }\n",
       "\n",
       "    .dataframe tbody tr th {\n",
       "        vertical-align: top;\n",
       "    }\n",
       "\n",
       "    .dataframe thead th {\n",
       "        text-align: right;\n",
       "    }\n",
       "</style>\n",
       "<table border=\"1\" class=\"dataframe\">\n",
       "  <thead>\n",
       "    <tr style=\"text-align: right;\">\n",
       "      <th></th>\n",
       "      <th>product_id</th>\n",
       "      <th>product_category_name</th>\n",
       "    </tr>\n",
       "  </thead>\n",
       "  <tbody>\n",
       "    <tr>\n",
       "      <th>0</th>\n",
       "      <td>1e9e8ef04dbcff4541ed26657ea517e5</td>\n",
       "      <td>perfumaria</td>\n",
       "    </tr>\n",
       "    <tr>\n",
       "      <th>1</th>\n",
       "      <td>3aa071139cb16b67ca9e5dea641aaa2f</td>\n",
       "      <td>artes</td>\n",
       "    </tr>\n",
       "    <tr>\n",
       "      <th>2</th>\n",
       "      <td>96bd76ec8810374ed1b65e291975717f</td>\n",
       "      <td>esporte_lazer</td>\n",
       "    </tr>\n",
       "    <tr>\n",
       "      <th>3</th>\n",
       "      <td>cef67bcfe19066a932b7673e239eb23d</td>\n",
       "      <td>bebes</td>\n",
       "    </tr>\n",
       "    <tr>\n",
       "      <th>4</th>\n",
       "      <td>9dc1a7de274444849c219cff195d0b71</td>\n",
       "      <td>utilidades_domesticas</td>\n",
       "    </tr>\n",
       "    <tr>\n",
       "      <th>...</th>\n",
       "      <td>...</td>\n",
       "      <td>...</td>\n",
       "    </tr>\n",
       "    <tr>\n",
       "      <th>32946</th>\n",
       "      <td>a0b7d5a992ccda646f2d34e418fff5a0</td>\n",
       "      <td>moveis_decoracao</td>\n",
       "    </tr>\n",
       "    <tr>\n",
       "      <th>32947</th>\n",
       "      <td>bf4538d88321d0fd4412a93c974510e6</td>\n",
       "      <td>construcao_ferramentas_iluminacao</td>\n",
       "    </tr>\n",
       "    <tr>\n",
       "      <th>32948</th>\n",
       "      <td>9a7c6041fa9592d9d9ef6cfe62a71f8c</td>\n",
       "      <td>cama_mesa_banho</td>\n",
       "    </tr>\n",
       "    <tr>\n",
       "      <th>32949</th>\n",
       "      <td>83808703fc0706a22e264b9d75f04a2e</td>\n",
       "      <td>informatica_acessorios</td>\n",
       "    </tr>\n",
       "    <tr>\n",
       "      <th>32950</th>\n",
       "      <td>106392145fca363410d287a815be6de4</td>\n",
       "      <td>cama_mesa_banho</td>\n",
       "    </tr>\n",
       "  </tbody>\n",
       "</table>\n",
       "<p>32951 rows × 2 columns</p>\n",
       "</div>"
      ],
      "text/plain": [
       "                             product_id              product_category_name\n",
       "0      1e9e8ef04dbcff4541ed26657ea517e5                         perfumaria\n",
       "1      3aa071139cb16b67ca9e5dea641aaa2f                              artes\n",
       "2      96bd76ec8810374ed1b65e291975717f                      esporte_lazer\n",
       "3      cef67bcfe19066a932b7673e239eb23d                              bebes\n",
       "4      9dc1a7de274444849c219cff195d0b71              utilidades_domesticas\n",
       "...                                 ...                                ...\n",
       "32946  a0b7d5a992ccda646f2d34e418fff5a0                   moveis_decoracao\n",
       "32947  bf4538d88321d0fd4412a93c974510e6  construcao_ferramentas_iluminacao\n",
       "32948  9a7c6041fa9592d9d9ef6cfe62a71f8c                    cama_mesa_banho\n",
       "32949  83808703fc0706a22e264b9d75f04a2e             informatica_acessorios\n",
       "32950  106392145fca363410d287a815be6de4                    cama_mesa_banho\n",
       "\n",
       "[32951 rows x 2 columns]"
      ]
     },
     "execution_count": 11,
     "metadata": {},
     "output_type": "execute_result"
    }
   ],
   "source": [
    "products_df = products_df[[\"product_id\", \"product_category_name\"]]\n",
    "products_df"
   ]
  },
  {
   "cell_type": "code",
   "execution_count": 12,
   "metadata": {},
   "outputs": [
    {
     "data": {
      "text/html": [
       "<div>\n",
       "<style scoped>\n",
       "    .dataframe tbody tr th:only-of-type {\n",
       "        vertical-align: middle;\n",
       "    }\n",
       "\n",
       "    .dataframe tbody tr th {\n",
       "        vertical-align: top;\n",
       "    }\n",
       "\n",
       "    .dataframe thead th {\n",
       "        text-align: right;\n",
       "    }\n",
       "</style>\n",
       "<table border=\"1\" class=\"dataframe\">\n",
       "  <thead>\n",
       "    <tr style=\"text-align: right;\">\n",
       "      <th></th>\n",
       "      <th>order_id</th>\n",
       "      <th>order_item_id</th>\n",
       "      <th>product_id</th>\n",
       "      <th>seller_id</th>\n",
       "      <th>shipping_limit_date</th>\n",
       "      <th>price</th>\n",
       "      <th>freight_value</th>\n",
       "      <th>product_category_name</th>\n",
       "    </tr>\n",
       "  </thead>\n",
       "  <tbody>\n",
       "    <tr>\n",
       "      <th>0</th>\n",
       "      <td>00010242fe8c5a6d1ba2dd792cb16214</td>\n",
       "      <td>1</td>\n",
       "      <td>4244733e06e7ecb4970a6e2683c13e61</td>\n",
       "      <td>48436dade18ac8b2bce089ec2a041202</td>\n",
       "      <td>2017-09-19 09:45:35</td>\n",
       "      <td>58.90</td>\n",
       "      <td>13.29</td>\n",
       "      <td>cool_stuff</td>\n",
       "    </tr>\n",
       "    <tr>\n",
       "      <th>1</th>\n",
       "      <td>00018f77f2f0320c557190d7a144bdd3</td>\n",
       "      <td>1</td>\n",
       "      <td>e5f2d52b802189ee658865ca93d83a8f</td>\n",
       "      <td>dd7ddc04e1b6c2c614352b383efe2d36</td>\n",
       "      <td>2017-05-03 11:05:13</td>\n",
       "      <td>239.90</td>\n",
       "      <td>19.93</td>\n",
       "      <td>pet_shop</td>\n",
       "    </tr>\n",
       "    <tr>\n",
       "      <th>2</th>\n",
       "      <td>000229ec398224ef6ca0657da4fc703e</td>\n",
       "      <td>1</td>\n",
       "      <td>c777355d18b72b67abbeef9df44fd0fd</td>\n",
       "      <td>5b51032eddd242adc84c38acab88f23d</td>\n",
       "      <td>2018-01-18 14:48:30</td>\n",
       "      <td>199.00</td>\n",
       "      <td>17.87</td>\n",
       "      <td>moveis_decoracao</td>\n",
       "    </tr>\n",
       "    <tr>\n",
       "      <th>3</th>\n",
       "      <td>00024acbcdf0a6daa1e931b038114c75</td>\n",
       "      <td>1</td>\n",
       "      <td>7634da152a4610f1595efa32f14722fc</td>\n",
       "      <td>9d7a1d34a5052409006425275ba1c2b4</td>\n",
       "      <td>2018-08-15 10:10:18</td>\n",
       "      <td>12.99</td>\n",
       "      <td>12.79</td>\n",
       "      <td>perfumaria</td>\n",
       "    </tr>\n",
       "    <tr>\n",
       "      <th>4</th>\n",
       "      <td>00042b26cf59d7ce69dfabb4e55b4fd9</td>\n",
       "      <td>1</td>\n",
       "      <td>ac6c3623068f30de03045865e4e10089</td>\n",
       "      <td>df560393f3a51e74553ab94004ba5c87</td>\n",
       "      <td>2017-02-13 13:57:51</td>\n",
       "      <td>199.90</td>\n",
       "      <td>18.14</td>\n",
       "      <td>ferramentas_jardim</td>\n",
       "    </tr>\n",
       "    <tr>\n",
       "      <th>...</th>\n",
       "      <td>...</td>\n",
       "      <td>...</td>\n",
       "      <td>...</td>\n",
       "      <td>...</td>\n",
       "      <td>...</td>\n",
       "      <td>...</td>\n",
       "      <td>...</td>\n",
       "      <td>...</td>\n",
       "    </tr>\n",
       "    <tr>\n",
       "      <th>112645</th>\n",
       "      <td>fffc94f6ce00a00581880bf54a75a037</td>\n",
       "      <td>1</td>\n",
       "      <td>4aa6014eceb682077f9dc4bffebc05b0</td>\n",
       "      <td>b8bc237ba3788b23da09c0f1f3a3288c</td>\n",
       "      <td>2018-05-02 04:11:01</td>\n",
       "      <td>299.99</td>\n",
       "      <td>43.41</td>\n",
       "      <td>utilidades_domesticas</td>\n",
       "    </tr>\n",
       "    <tr>\n",
       "      <th>112646</th>\n",
       "      <td>fffcd46ef2263f404302a634eb57f7eb</td>\n",
       "      <td>1</td>\n",
       "      <td>32e07fd915822b0765e448c4dd74c828</td>\n",
       "      <td>f3c38ab652836d21de61fb8314b69182</td>\n",
       "      <td>2018-07-20 04:31:48</td>\n",
       "      <td>350.00</td>\n",
       "      <td>36.53</td>\n",
       "      <td>informatica_acessorios</td>\n",
       "    </tr>\n",
       "    <tr>\n",
       "      <th>112647</th>\n",
       "      <td>fffce4705a9662cd70adb13d4a31832d</td>\n",
       "      <td>1</td>\n",
       "      <td>72a30483855e2eafc67aee5dc2560482</td>\n",
       "      <td>c3cfdc648177fdbbbb35635a37472c53</td>\n",
       "      <td>2017-10-30 17:14:25</td>\n",
       "      <td>99.90</td>\n",
       "      <td>16.95</td>\n",
       "      <td>esporte_lazer</td>\n",
       "    </tr>\n",
       "    <tr>\n",
       "      <th>112648</th>\n",
       "      <td>fffe18544ffabc95dfada21779c9644f</td>\n",
       "      <td>1</td>\n",
       "      <td>9c422a519119dcad7575db5af1ba540e</td>\n",
       "      <td>2b3e4a2a3ea8e01938cabda2a3e5cc79</td>\n",
       "      <td>2017-08-21 00:04:32</td>\n",
       "      <td>55.99</td>\n",
       "      <td>8.72</td>\n",
       "      <td>informatica_acessorios</td>\n",
       "    </tr>\n",
       "    <tr>\n",
       "      <th>112649</th>\n",
       "      <td>fffe41c64501cc87c801fd61db3f6244</td>\n",
       "      <td>1</td>\n",
       "      <td>350688d9dc1e75ff97be326363655e01</td>\n",
       "      <td>f7ccf836d21b2fb1de37564105216cc1</td>\n",
       "      <td>2018-06-12 17:10:13</td>\n",
       "      <td>43.00</td>\n",
       "      <td>12.79</td>\n",
       "      <td>cama_mesa_banho</td>\n",
       "    </tr>\n",
       "  </tbody>\n",
       "</table>\n",
       "<p>112650 rows × 8 columns</p>\n",
       "</div>"
      ],
      "text/plain": [
       "                                order_id  order_item_id  \\\n",
       "0       00010242fe8c5a6d1ba2dd792cb16214              1   \n",
       "1       00018f77f2f0320c557190d7a144bdd3              1   \n",
       "2       000229ec398224ef6ca0657da4fc703e              1   \n",
       "3       00024acbcdf0a6daa1e931b038114c75              1   \n",
       "4       00042b26cf59d7ce69dfabb4e55b4fd9              1   \n",
       "...                                  ...            ...   \n",
       "112645  fffc94f6ce00a00581880bf54a75a037              1   \n",
       "112646  fffcd46ef2263f404302a634eb57f7eb              1   \n",
       "112647  fffce4705a9662cd70adb13d4a31832d              1   \n",
       "112648  fffe18544ffabc95dfada21779c9644f              1   \n",
       "112649  fffe41c64501cc87c801fd61db3f6244              1   \n",
       "\n",
       "                              product_id                         seller_id  \\\n",
       "0       4244733e06e7ecb4970a6e2683c13e61  48436dade18ac8b2bce089ec2a041202   \n",
       "1       e5f2d52b802189ee658865ca93d83a8f  dd7ddc04e1b6c2c614352b383efe2d36   \n",
       "2       c777355d18b72b67abbeef9df44fd0fd  5b51032eddd242adc84c38acab88f23d   \n",
       "3       7634da152a4610f1595efa32f14722fc  9d7a1d34a5052409006425275ba1c2b4   \n",
       "4       ac6c3623068f30de03045865e4e10089  df560393f3a51e74553ab94004ba5c87   \n",
       "...                                  ...                               ...   \n",
       "112645  4aa6014eceb682077f9dc4bffebc05b0  b8bc237ba3788b23da09c0f1f3a3288c   \n",
       "112646  32e07fd915822b0765e448c4dd74c828  f3c38ab652836d21de61fb8314b69182   \n",
       "112647  72a30483855e2eafc67aee5dc2560482  c3cfdc648177fdbbbb35635a37472c53   \n",
       "112648  9c422a519119dcad7575db5af1ba540e  2b3e4a2a3ea8e01938cabda2a3e5cc79   \n",
       "112649  350688d9dc1e75ff97be326363655e01  f7ccf836d21b2fb1de37564105216cc1   \n",
       "\n",
       "        shipping_limit_date   price  freight_value   product_category_name  \n",
       "0       2017-09-19 09:45:35   58.90          13.29              cool_stuff  \n",
       "1       2017-05-03 11:05:13  239.90          19.93                pet_shop  \n",
       "2       2018-01-18 14:48:30  199.00          17.87        moveis_decoracao  \n",
       "3       2018-08-15 10:10:18   12.99          12.79              perfumaria  \n",
       "4       2017-02-13 13:57:51  199.90          18.14      ferramentas_jardim  \n",
       "...                     ...     ...            ...                     ...  \n",
       "112645  2018-05-02 04:11:01  299.99          43.41   utilidades_domesticas  \n",
       "112646  2018-07-20 04:31:48  350.00          36.53  informatica_acessorios  \n",
       "112647  2017-10-30 17:14:25   99.90          16.95           esporte_lazer  \n",
       "112648  2017-08-21 00:04:32   55.99           8.72  informatica_acessorios  \n",
       "112649  2018-06-12 17:10:13   43.00          12.79         cama_mesa_banho  \n",
       "\n",
       "[112650 rows x 8 columns]"
      ]
     },
     "execution_count": 12,
     "metadata": {},
     "output_type": "execute_result"
    }
   ],
   "source": [
    "new_order_items = pd.merge(order_items_df, products_df, how=\"left\", on=\"product_id\")\n",
    "new_order_items"
   ]
  },
  {
   "cell_type": "code",
   "execution_count": 13,
   "metadata": {},
   "outputs": [],
   "source": [
    "new_order_items[\"product_category_name\"] = new_order_items[\n",
    "    \"product_category_name\"\n",
    "].fillna(\"unknown\")"
   ]
  },
  {
   "cell_type": "code",
   "execution_count": 14,
   "metadata": {},
   "outputs": [
    {
     "data": {
      "text/plain": [
       "order_id                 0\n",
       "order_item_id            0\n",
       "product_id               0\n",
       "seller_id                0\n",
       "shipping_limit_date      0\n",
       "price                    0\n",
       "freight_value            0\n",
       "product_category_name    0\n",
       "dtype: int64"
      ]
     },
     "execution_count": 14,
     "metadata": {},
     "output_type": "execute_result"
    }
   ],
   "source": [
    "new_order_items.isna().sum()"
   ]
  },
  {
   "cell_type": "code",
   "execution_count": 15,
   "metadata": {},
   "outputs": [],
   "source": [
    "# new_order_items.to_csv(\"order_items_and_category_name_dataset.csv\")"
   ]
  },
  {
   "cell_type": "code",
   "execution_count": 16,
   "metadata": {},
   "outputs": [
    {
     "data": {
      "text/plain": [
       "order_id                  object\n",
       "order_item_id              int64\n",
       "product_id                object\n",
       "seller_id                 object\n",
       "shipping_limit_date       object\n",
       "price                    float64\n",
       "freight_value            float64\n",
       "product_category_name     object\n",
       "dtype: object"
      ]
     },
     "execution_count": 16,
     "metadata": {},
     "output_type": "execute_result"
    }
   ],
   "source": [
    "new_order_items.dtypes"
   ]
  },
  {
   "cell_type": "code",
   "execution_count": 21,
   "metadata": {},
   "outputs": [
    {
     "data": {
      "text/plain": [
       "order_id                         object\n",
       "order_item_id                     int64\n",
       "product_id                       object\n",
       "seller_id                        object\n",
       "shipping_limit_date      datetime64[ns]\n",
       "price                           float64\n",
       "freight_value                   float64\n",
       "product_category_name            object\n",
       "dtype: object"
      ]
     },
     "execution_count": 21,
     "metadata": {},
     "output_type": "execute_result"
    }
   ],
   "source": [
    "# product_df 필요없는 컬럼 삭제\n",
    "products_df = products_df[[\"product_id\", \"product_category_name\"]]\n",
    "\n",
    "# order item <- products (product_category_name) 머지\n",
    "order_items_with_category = order_items_df.merge(\n",
    "    products_df[[\"product_id\", \"product_category_name\"]], left_on=\"product_id\", right_on='product_id',how=\"left\"\n",
    ")\n",
    "\n",
    "# 결측치 처리\n",
    "order_items_with_category[\"product_category_name\"] = order_items_with_category[\n",
    "    \"product_category_name\"\n",
    "].fillna(\"unknown\")\n",
    "\n",
    "# 데이터 타입 변환\n",
    "order_items_with_category[\"shipping_limit_date\"] = pd.to_datetime(\n",
    "    order_items_with_category[\"shipping_limit_date\"]\n",
    ")\n",
    "\n",
    "# 파일 저장\n",
    "order_items_with_category.to_csv(\"order_items_with_product_category.csv\", index=False)\n",
    "\n",
    "# 데이터 타입 확인\n",
    "order_items_with_category.dtypes"
   ]
  },
  {
   "cell_type": "code",
   "execution_count": 23,
   "metadata": {},
   "outputs": [
    {
     "data": {
      "text/plain": [
       "0"
      ]
     },
     "execution_count": 23,
     "metadata": {},
     "output_type": "execute_result"
    }
   ],
   "source": [
    "order_items_with_category.duplicated().sum()"
   ]
  },
  {
   "cell_type": "code",
   "execution_count": 18,
   "metadata": {},
   "outputs": [
    {
     "data": {
      "text/plain": [
       "order_id                 0\n",
       "order_item_id            0\n",
       "product_id               0\n",
       "seller_id                0\n",
       "shipping_limit_date      0\n",
       "price                    0\n",
       "freight_value            0\n",
       "product_category_name    0\n",
       "dtype: int64"
      ]
     },
     "execution_count": 18,
     "metadata": {},
     "output_type": "execute_result"
    }
   ],
   "source": [
    "missing_values = order_items_with_category.isnull().sum()\n",
    "missing_values"
   ]
  }
 ],
 "metadata": {
  "kernelspec": {
   "display_name": "base",
   "language": "python",
   "name": "python3"
  },
  "language_info": {
   "codemirror_mode": {
    "name": "ipython",
    "version": 3
   },
   "file_extension": ".py",
   "mimetype": "text/x-python",
   "name": "python",
   "nbconvert_exporter": "python",
   "pygments_lexer": "ipython3",
   "version": "3.12.2"
  }
 },
 "nbformat": 4,
 "nbformat_minor": 2
}
